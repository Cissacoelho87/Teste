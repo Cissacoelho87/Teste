{
 "cells": [
  {
   "cell_type": "markdown",
   "id": "c3eb87d4-e6e3-4759-adb8-82caea5ec335",
   "metadata": {},
   "source": [
    "# Comandos de Entrada e Saída"
   ]
  },
  {
   "cell_type": "code",
   "execution_count": 14,
   "id": "3d6c82bc-cc41-47ce-833e-83a733eedc52",
   "metadata": {},
   "outputs": [],
   "source": [
    "nome = \"Cissa\"\n",
    "idade = 37"
   ]
  },
  {
   "cell_type": "code",
   "execution_count": 16,
   "id": "6b470733-5490-4a1a-a5ba-868034378a1d",
   "metadata": {},
   "outputs": [
    {
     "name": "stdout",
     "output_type": "stream",
     "text": [
      "Cissa  tem  37  anos \n"
     ]
    }
   ],
   "source": [
    "print(nome, \" tem \", idade, \" anos \")"
   ]
  },
  {
   "cell_type": "code",
   "execution_count": 18,
   "id": "f3ffd27c-d72e-4bbe-98ae-561ea127e1e8",
   "metadata": {},
   "outputs": [
    {
     "name": "stdin",
     "output_type": "stream",
     "text": [
      "digite seu nome  Cissa\n"
     ]
    }
   ],
   "source": [
    "nome = input(\"digite seu nome \")"
   ]
  },
  {
   "cell_type": "code",
   "execution_count": 20,
   "id": "cd81d3d4-b240-4665-b8f6-d50d78efdd7e",
   "metadata": {},
   "outputs": [
    {
     "data": {
      "text/plain": [
       "str"
      ]
     },
     "execution_count": 20,
     "metadata": {},
     "output_type": "execute_result"
    }
   ],
   "source": [
    "type(nome)"
   ]
  },
  {
   "cell_type": "code",
   "execution_count": 22,
   "id": "a5c27dc1-d938-4b9e-a936-afbb5c50618f",
   "metadata": {},
   "outputs": [
    {
     "name": "stdin",
     "output_type": "stream",
     "text": [
      "digite sua idade  37\n"
     ]
    }
   ],
   "source": [
    "idade = input(\"digite sua idade \")"
   ]
  },
  {
   "cell_type": "code",
   "execution_count": 24,
   "id": "b13ecb92-b360-4904-ad61-479a212dad8c",
   "metadata": {},
   "outputs": [
    {
     "data": {
      "text/plain": [
       "37"
      ]
     },
     "execution_count": 24,
     "metadata": {},
     "output_type": "execute_result"
    }
   ],
   "source": [
    "Idade"
   ]
  },
  {
   "cell_type": "code",
   "execution_count": 28,
   "id": "6d1c3bd9-71ce-46ba-bc3e-ebebcee423f1",
   "metadata": {},
   "outputs": [],
   "source": [
    "idade = int(idade)"
   ]
  },
  {
   "cell_type": "code",
   "execution_count": 30,
   "id": "9f5afbcc-346b-4e60-87f6-dbd1e1e5ad47",
   "metadata": {},
   "outputs": [
    {
     "data": {
      "text/plain": [
       "37"
      ]
     },
     "execution_count": 30,
     "metadata": {},
     "output_type": "execute_result"
    }
   ],
   "source": [
    "idade"
   ]
  },
  {
   "cell_type": "code",
   "execution_count": 32,
   "id": "f6d6b91c-92db-417c-beed-55de11a29a15",
   "metadata": {},
   "outputs": [
    {
     "data": {
      "text/plain": [
       "int"
      ]
     },
     "execution_count": 32,
     "metadata": {},
     "output_type": "execute_result"
    }
   ],
   "source": [
    "type(idade)"
   ]
  },
  {
   "cell_type": "code",
   "execution_count": 34,
   "id": "b9521c05-b183-495f-986f-8a5333bcd0ba",
   "metadata": {},
   "outputs": [
    {
     "name": "stdin",
     "output_type": "stream",
     "text": [
      "digite sua idade,  37\n"
     ]
    }
   ],
   "source": [
    "idade = int(input(\"digite sua idade, \"))"
   ]
  },
  {
   "cell_type": "code",
   "execution_count": 36,
   "id": "6904bd23-f187-4422-9a08-73f321984fc7",
   "metadata": {},
   "outputs": [
    {
     "data": {
      "text/plain": [
       "37"
      ]
     },
     "execution_count": 36,
     "metadata": {},
     "output_type": "execute_result"
    }
   ],
   "source": [
    "idade"
   ]
  },
  {
   "cell_type": "code",
   "execution_count": 38,
   "id": "81ae091f-47c5-4838-b8da-439fdee3674b",
   "metadata": {},
   "outputs": [
    {
     "data": {
      "text/plain": [
       "int"
      ]
     },
     "execution_count": 38,
     "metadata": {},
     "output_type": "execute_result"
    }
   ],
   "source": [
    "type(idade)"
   ]
  },
  {
   "cell_type": "code",
   "execution_count": 40,
   "id": "2dc8ce02-3104-471b-855b-5cfa6e4c9219",
   "metadata": {},
   "outputs": [],
   "source": [
    "idade = float(idade)"
   ]
  },
  {
   "cell_type": "code",
   "execution_count": 42,
   "id": "e844ddaf-4d8e-4032-a4b4-f9f8e8b1dff6",
   "metadata": {},
   "outputs": [
    {
     "data": {
      "text/plain": [
       "float"
      ]
     },
     "execution_count": 42,
     "metadata": {},
     "output_type": "execute_result"
    }
   ],
   "source": [
    "type(idade)"
   ]
  },
  {
   "cell_type": "code",
   "execution_count": null,
   "id": "438aab9b-6d29-49dd-8224-fa91a9df7873",
   "metadata": {},
   "outputs": [],
   "source": []
  },
  {
   "cell_type": "code",
   "execution_count": 1,
   "id": "9e0865ac-8c2c-4fdf-a045-d354a10cf177",
   "metadata": {},
   "outputs": [
    {
     "name": "stdin",
     "output_type": "stream",
     "text": [
      "Digite o lado maior:  5\n",
      "Digite o lado menor:  3\n"
     ]
    },
    {
     "name": "stdout",
     "output_type": "stream",
     "text": [
      "a área do quadrilátero é :  15.0\n"
     ]
    }
   ],
   "source": [
    "lado1 = float(input(\"Digite o lado maior: \"))\n",
    "lado2 = float(input(\"Digite o lado menor: \"))\n",
    "area = lado1 * lado2\n",
    "print(\"a área do quadrilátero é : \", area)"
   ]
  },
  {
   "cell_type": "code",
   "execution_count": null,
   "id": "e76ae1a9-7f92-4834-a361-7c824b405b70",
   "metadata": {},
   "outputs": [],
   "source": []
  }
 ],
 "metadata": {
  "kernelspec": {
   "display_name": "Python [conda env:base] *",
   "language": "python",
   "name": "conda-base-py"
  },
  "language_info": {
   "codemirror_mode": {
    "name": "ipython",
    "version": 3
   },
   "file_extension": ".py",
   "mimetype": "text/x-python",
   "name": "python",
   "nbconvert_exporter": "python",
   "pygments_lexer": "ipython3",
   "version": "3.12.7"
  }
 },
 "nbformat": 4,
 "nbformat_minor": 5
}
