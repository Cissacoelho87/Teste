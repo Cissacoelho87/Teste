{
 "cells": [
  {
   "cell_type": "markdown",
   "id": "c412d217-457e-40c5-a065-b5d9245af177",
   "metadata": {},
   "source": [
    "* tipo inteiro"
   ]
  },
  {
   "cell_type": "markdown",
   "id": "a94b3798-42a6-409b-bb57-0fca9c5633f1",
   "metadata": {},
   "source": [
    "# TIPO INTEIRO"
   ]
  },
  {
   "cell_type": "code",
   "execution_count": 3,
   "id": "01623c7d-66bf-41e1-9db0-a70dc14669ca",
   "metadata": {},
   "outputs": [
    {
     "data": {
      "text/plain": [
       "10"
      ]
     },
     "execution_count": 3,
     "metadata": {},
     "output_type": "execute_result"
    }
   ],
   "source": [
    "10"
   ]
  },
  {
   "cell_type": "code",
   "execution_count": 5,
   "id": "a75fc307-313f-4e1b-83f0-37c655222026",
   "metadata": {},
   "outputs": [
    {
     "ename": "SyntaxError",
     "evalue": "invalid syntax (897293859.py, line 1)",
     "output_type": "error",
     "traceback": [
      "\u001b[1;36m  Cell \u001b[1;32mIn[5], line 1\u001b[1;36m\u001b[0m\n\u001b[1;33m    num 10\u001b[0m\n\u001b[1;37m        ^\u001b[0m\n\u001b[1;31mSyntaxError\u001b[0m\u001b[1;31m:\u001b[0m invalid syntax\n"
     ]
    }
   ],
   "source": [
    "num 10"
   ]
  },
  {
   "cell_type": "code",
   "execution_count": 7,
   "id": "0289ae75-59b1-448c-bf5e-5384bbf91f73",
   "metadata": {},
   "outputs": [],
   "source": [
    "num = 10"
   ]
  },
  {
   "cell_type": "code",
   "execution_count": 9,
   "id": "7a17291c-1187-403c-85fc-1d576babc784",
   "metadata": {},
   "outputs": [
    {
     "ename": "NameError",
     "evalue": "name 'tipe' is not defined",
     "output_type": "error",
     "traceback": [
      "\u001b[1;31m---------------------------------------------------------------------------\u001b[0m",
      "\u001b[1;31mNameError\u001b[0m                                 Traceback (most recent call last)",
      "Cell \u001b[1;32mIn[9], line 1\u001b[0m\n\u001b[1;32m----> 1\u001b[0m tipe (num)\n",
      "\u001b[1;31mNameError\u001b[0m: name 'tipe' is not defined"
     ]
    }
   ],
   "source": [
    "tipe (num)"
   ]
  },
  {
   "cell_type": "code",
   "execution_count": 11,
   "id": "f42ef156-45d8-4b9a-9a42-2841a268ef1d",
   "metadata": {},
   "outputs": [
    {
     "data": {
      "text/plain": [
       "int"
      ]
     },
     "execution_count": 11,
     "metadata": {},
     "output_type": "execute_result"
    }
   ],
   "source": [
    "type (num)"
   ]
  },
  {
   "cell_type": "markdown",
   "id": "20d83242-e429-45fd-b961-8fde50b23fee",
   "metadata": {},
   "source": [
    "num = 20"
   ]
  },
  {
   "cell_type": "markdown",
   "id": "0ffaf963-e664-447a-aba4-95b96d566cd2",
   "metadata": {},
   "source": [
    "num"
   ]
  },
  {
   "cell_type": "code",
   "execution_count": 15,
   "id": "167728e4-86f8-4d87-bcca-b5a22f13eace",
   "metadata": {},
   "outputs": [],
   "source": [
    "x = 5"
   ]
  },
  {
   "cell_type": "code",
   "execution_count": 17,
   "id": "c60efbbf-71c2-4b5d-9f97-99ebaa6a227d",
   "metadata": {},
   "outputs": [],
   "source": [
    "soma = num + x"
   ]
  },
  {
   "cell_type": "code",
   "execution_count": 19,
   "id": "7c1a7fbc-c003-41ba-afdf-8007ab363859",
   "metadata": {},
   "outputs": [
    {
     "data": {
      "text/plain": [
       "15"
      ]
     },
     "execution_count": 19,
     "metadata": {},
     "output_type": "execute_result"
    }
   ],
   "source": [
    "soma"
   ]
  },
  {
   "cell_type": "code",
   "execution_count": 21,
   "id": "fa75f524-fb74-4ac1-ac38-ae3078fc5a1b",
   "metadata": {},
   "outputs": [],
   "source": [
    "multi = num + x"
   ]
  },
  {
   "cell_type": "code",
   "execution_count": 23,
   "id": "3cce156d-9a3b-407f-a5c0-d43c3d3966c6",
   "metadata": {},
   "outputs": [
    {
     "data": {
      "text/plain": [
       "15"
      ]
     },
     "execution_count": 23,
     "metadata": {},
     "output_type": "execute_result"
    }
   ],
   "source": [
    "multi"
   ]
  },
  {
   "cell_type": "code",
   "execution_count": 29,
   "id": "4b7e2800-c3ee-441a-b4ae-5fefa04785cf",
   "metadata": {},
   "outputs": [
    {
     "data": {
      "text/plain": [
       "107150860718626732094842504906000181056140481170553360744375038837035105112493612249319837881569585812759467291755314682518714528569231404359845775746985748039345677748242309854210746050623711418779541821530464749835819412673987675591655439460770629145711964776865421676604298316526243868372056680693760000000000000000000000000000000000000000000000000000000000000000000000000000000000000000000000000000000000000000000000000000000000000000000000000000000000000000000000000000000000000000000000000000000000000000000000000000000000000000000000000000000000000000000000000000000000000000000000000000000000000000000000000000000000000000000000000000000000000000000000000000000000000000000000000000000000000000000000000000000000000000000000000000000000000000000000000000000000000000000000000000000000000000000000000000000000000000000000000000000000000000000000000000000000000000000000000000000000000000000000000000000000000000000000000000000000000000000000000000000000000000000000000000000000000000000000000000000000000000000000000000000000000000000000000000000000000000000000000000000000000000000000000000000000000000000000000000000000000000000000000000000000000000000000000000000000000000000000000000000000000000000000000000000000000000000000000000000000000000000000000000000000000000000000000000000000000000"
      ]
     },
     "execution_count": 29,
     "metadata": {},
     "output_type": "execute_result"
    }
   ],
   "source": [
    "20**1000"
   ]
  },
  {
   "cell_type": "code",
   "execution_count": 31,
   "id": "9bfb7950-802c-49b3-89fd-a0b24beb7649",
   "metadata": {
    "jupyter": {
     "source_hidden": true
    }
   },
   "outputs": [],
   "source": [
    "x = num + - 30"
   ]
  },
  {
   "cell_type": "code",
   "execution_count": 33,
   "id": "4da79849-42e8-46fa-ac5d-9a27985fa8ca",
   "metadata": {},
   "outputs": [],
   "source": [
    "x = num - 30"
   ]
  },
  {
   "cell_type": "code",
   "execution_count": 35,
   "id": "4f8d2460-a571-4804-9a04-d9fdb41abf28",
   "metadata": {},
   "outputs": [],
   "source": [
    "x = num - 30"
   ]
  },
  {
   "cell_type": "code",
   "execution_count": 37,
   "id": "22fcc6d1-0dab-4523-a9ff-c0025d999873",
   "metadata": {},
   "outputs": [
    {
     "data": {
      "text/plain": [
       "1"
      ]
     },
     "execution_count": 37,
     "metadata": {},
     "output_type": "execute_result"
    }
   ],
   "source": [
    "7%2"
   ]
  },
  {
   "cell_type": "code",
   "execution_count": 39,
   "id": "3831ff31-fb4b-45cc-8079-2721c91b1605",
   "metadata": {},
   "outputs": [],
   "source": [
    "num = x + 3"
   ]
  },
  {
   "cell_type": "code",
   "execution_count": 41,
   "id": "79343e20-058f-4640-b4af-3a5a0aa91ee5",
   "metadata": {},
   "outputs": [
    {
     "data": {
      "text/plain": [
       "-17"
      ]
     },
     "execution_count": 41,
     "metadata": {},
     "output_type": "execute_result"
    }
   ],
   "source": [
    "num "
   ]
  },
  {
   "cell_type": "code",
   "execution_count": 43,
   "id": "696fd108-60af-42b0-9dbb-81cf13c953f6",
   "metadata": {},
   "outputs": [],
   "source": [
    "num = num + 20"
   ]
  },
  {
   "cell_type": "code",
   "execution_count": 45,
   "id": "f81d71c7-0fb0-4281-be45-887975c45d3d",
   "metadata": {},
   "outputs": [
    {
     "data": {
      "text/plain": [
       "3"
      ]
     },
     "execution_count": 45,
     "metadata": {},
     "output_type": "execute_result"
    }
   ],
   "source": [
    "num"
   ]
  },
  {
   "cell_type": "code",
   "execution_count": 47,
   "id": "d49077f2-ce25-4e29-b927-58899d1afb4c",
   "metadata": {},
   "outputs": [
    {
     "ename": "SyntaxError",
     "evalue": "invalid syntax (3826069893.py, line 1)",
     "output_type": "error",
     "traceback": [
      "\u001b[1;36m  Cell \u001b[1;32mIn[47], line 1\u001b[1;36m\u001b[0m\n\u001b[1;33m    num + = 20\u001b[0m\n\u001b[1;37m          ^\u001b[0m\n\u001b[1;31mSyntaxError\u001b[0m\u001b[1;31m:\u001b[0m invalid syntax\n"
     ]
    }
   ],
   "source": [
    "num + = 20"
   ]
  },
  {
   "cell_type": "code",
   "execution_count": 49,
   "id": "b147ccd8-f44b-48c8-9126-ce2a0d42cfd6",
   "metadata": {},
   "outputs": [],
   "source": [
    "num += 20"
   ]
  },
  {
   "cell_type": "code",
   "execution_count": 51,
   "id": "66685422-4ab9-42fa-8f7e-6ed74896cbbc",
   "metadata": {},
   "outputs": [
    {
     "data": {
      "text/plain": [
       "23"
      ]
     },
     "execution_count": 51,
     "metadata": {},
     "output_type": "execute_result"
    }
   ],
   "source": [
    "num"
   ]
  },
  {
   "cell_type": "code",
   "execution_count": 53,
   "id": "5bd49b58-9bcd-4f8a-bcf9-8956f44bb499",
   "metadata": {},
   "outputs": [],
   "source": [
    "num -= 20"
   ]
  },
  {
   "cell_type": "code",
   "execution_count": 55,
   "id": "a275cb86-4cb2-4764-892b-d59f93e545b9",
   "metadata": {},
   "outputs": [
    {
     "data": {
      "text/plain": [
       "3"
      ]
     },
     "execution_count": 55,
     "metadata": {},
     "output_type": "execute_result"
    }
   ],
   "source": [
    "num"
   ]
  },
  {
   "cell_type": "code",
   "execution_count": 57,
   "id": "aff44fcf-d76b-4b35-acd1-0b01d45cacab",
   "metadata": {},
   "outputs": [
    {
     "name": "stdout",
     "output_type": "stream",
     "text": [
      "-17\n"
     ]
    }
   ],
   "source": [
    "num -= 20\n",
    "print (num)"
   ]
  },
  {
   "cell_type": "code",
   "execution_count": 61,
   "id": "328e58a8-03e2-4f8b-b603-40b8ca2b9f39",
   "metadata": {},
   "outputs": [
    {
     "name": "stdout",
     "output_type": "stream",
     "text": [
      "-68\n"
     ]
    }
   ],
   "source": [
    "num *= 2\n",
    "print (num)"
   ]
  },
  {
   "cell_type": "markdown",
   "id": "cb9edb5e-9b2b-4f58-b921-0f0ebc93d5aa",
   "metadata": {},
   "source": [
    "num /= 13"
   ]
  },
  {
   "cell_type": "code",
   "execution_count": 64,
   "id": "14f36327-7716-4d95-b92c-c67b8df28692",
   "metadata": {},
   "outputs": [
    {
     "data": {
      "text/plain": [
       "-68"
      ]
     },
     "execution_count": 64,
     "metadata": {},
     "output_type": "execute_result"
    }
   ],
   "source": [
    "num"
   ]
  },
  {
   "cell_type": "code",
   "execution_count": 66,
   "id": "aaf3f8a4-d0e7-410f-82f5-1b0fe339f0fe",
   "metadata": {},
   "outputs": [
    {
     "name": "stdout",
     "output_type": "stream",
     "text": [
      "-5.230769230769231\n"
     ]
    }
   ],
   "source": [
    "num /= 13\n",
    "print (num)"
   ]
  },
  {
   "cell_type": "markdown",
   "id": "234cb122-2d5c-4e8e-b3a3-1851917cc688",
   "metadata": {},
   "source": [
    "# TIPO FLOAT"
   ]
  },
  {
   "cell_type": "code",
   "execution_count": 69,
   "id": "bf53c049-7890-4492-9ccc-57c5252836bf",
   "metadata": {},
   "outputs": [
    {
     "data": {
      "text/plain": [
       "float"
      ]
     },
     "execution_count": 69,
     "metadata": {},
     "output_type": "execute_result"
    }
   ],
   "source": [
    "type (num)"
   ]
  },
  {
   "cell_type": "code",
   "execution_count": 71,
   "id": "da9318b2-0aa7-4318-b341-e0229fa51248",
   "metadata": {},
   "outputs": [
    {
     "name": "stdout",
     "output_type": "stream",
     "text": [
      "-5.230769230769231\n"
     ]
    }
   ],
   "source": [
    "print (num)"
   ]
  },
  {
   "cell_type": "code",
   "execution_count": 73,
   "id": "95ba83d7-77a1-4f84-bdcd-70eaa0a4f0b0",
   "metadata": {},
   "outputs": [
    {
     "name": "stdout",
     "output_type": "stream",
     "text": [
      "-5.230769230769231\n"
     ]
    }
   ],
   "source": [
    "print(num)"
   ]
  },
  {
   "cell_type": "code",
   "execution_count": 78,
   "id": "43439aa1-c444-4a42-96fa-fc252bd2d500",
   "metadata": {},
   "outputs": [
    {
     "data": {
      "text/plain": [
       "31.0"
      ]
     },
     "execution_count": 78,
     "metadata": {},
     "output_type": "execute_result"
    }
   ],
   "source": [
    "10.44 + 20.56"
   ]
  },
  {
   "cell_type": "code",
   "execution_count": 84,
   "id": "4482b8f6-5750-449c-bff8-0534981fbd87",
   "metadata": {},
   "outputs": [],
   "source": [
    "num *= 2.2"
   ]
  },
  {
   "cell_type": "code",
   "execution_count": 82,
   "id": "60d46060-0f33-435a-968b-f09743693495",
   "metadata": {},
   "outputs": [
    {
     "data": {
      "text/plain": [
       "-11.50769230769231"
      ]
     },
     "execution_count": 82,
     "metadata": {},
     "output_type": "execute_result"
    }
   ],
   "source": [
    "num"
   ]
  },
  {
   "cell_type": "code",
   "execution_count": 86,
   "id": "7591c19b-6b9c-4bf4-80de-be76dd76154b",
   "metadata": {},
   "outputs": [
    {
     "data": {
      "text/plain": [
       "-25.316923076923082"
      ]
     },
     "execution_count": 86,
     "metadata": {},
     "output_type": "execute_result"
    }
   ],
   "source": [
    "num"
   ]
  },
  {
   "cell_type": "code",
   "execution_count": 88,
   "id": "4b3bd895-b7d8-4a13-9039-7479dfd68dc4",
   "metadata": {},
   "outputs": [],
   "source": [
    "num += 2.2"
   ]
  },
  {
   "cell_type": "code",
   "execution_count": 90,
   "id": "3723c0ff-d5d6-4191-9224-1dac90070a9a",
   "metadata": {},
   "outputs": [
    {
     "data": {
      "text/plain": [
       "-23.116923076923083"
      ]
     },
     "execution_count": 90,
     "metadata": {},
     "output_type": "execute_result"
    }
   ],
   "source": [
    "num"
   ]
  },
  {
   "cell_type": "code",
   "execution_count": 92,
   "id": "1b70eb2e-4bf6-4f1b-a20e-599f6f9f4d8b",
   "metadata": {},
   "outputs": [
    {
     "ename": "SyntaxError",
     "evalue": "Missing parentheses in call to 'print'. Did you mean print(...)? (4148838965.py, line 1)",
     "output_type": "error",
     "traceback": [
      "\u001b[1;36m  Cell \u001b[1;32mIn[92], line 1\u001b[1;36m\u001b[0m\n\u001b[1;33m    print num\u001b[0m\n\u001b[1;37m    ^\u001b[0m\n\u001b[1;31mSyntaxError\u001b[0m\u001b[1;31m:\u001b[0m Missing parentheses in call to 'print'. Did you mean print(...)?\n"
     ]
    }
   ],
   "source": [
    "print num"
   ]
  },
  {
   "cell_type": "code",
   "execution_count": 94,
   "id": "2c208109-2eda-4f09-a33b-ccbc3fd68505",
   "metadata": {},
   "outputs": [
    {
     "name": "stdout",
     "output_type": "stream",
     "text": [
      "-23.116923076923083\n"
     ]
    }
   ],
   "source": [
    "print(num)"
   ]
  },
  {
   "cell_type": "code",
   "execution_count": 96,
   "id": "131d74af-67d4-40ee-ab8e-6d07e529bea2",
   "metadata": {},
   "outputs": [],
   "source": [
    "num *= 2.2"
   ]
  },
  {
   "cell_type": "code",
   "execution_count": 98,
   "id": "6eae45ba-9deb-4f2e-b921-54b03b98feb3",
   "metadata": {},
   "outputs": [
    {
     "name": "stdout",
     "output_type": "stream",
     "text": [
      "-50.85723076923079\n"
     ]
    }
   ],
   "source": [
    "print(num)"
   ]
  },
  {
   "cell_type": "code",
   "execution_count": 100,
   "id": "04a2630f-b62a-47ca-ba8c-ef980fd9740b",
   "metadata": {},
   "outputs": [],
   "source": [
    "num += 2.2"
   ]
  },
  {
   "cell_type": "code",
   "execution_count": 102,
   "id": "d7af11c6-0ac7-4827-a95c-e85295ce60aa",
   "metadata": {},
   "outputs": [
    {
     "name": "stdout",
     "output_type": "stream",
     "text": [
      "-48.657230769230786\n"
     ]
    }
   ],
   "source": [
    "print(num)"
   ]
  },
  {
   "cell_type": "markdown",
   "id": "9243b981-ba21-48f3-b503-bd7fa77db90a",
   "metadata": {},
   "source": [
    "# TIPO COMPLEXO"
   ]
  },
  {
   "cell_type": "code",
   "execution_count": 127,
   "id": "77507177-7065-45e3-ac8a-3fcb389bd0ce",
   "metadata": {},
   "outputs": [
    {
     "data": {
      "text/plain": [
       "5j"
      ]
     },
     "execution_count": 127,
     "metadata": {},
     "output_type": "execute_result"
    }
   ],
   "source": [
    "5j"
   ]
  },
  {
   "cell_type": "code",
   "execution_count": 133,
   "id": "a5da27cf-dc12-4bd9-b233-099ba896a77a",
   "metadata": {},
   "outputs": [],
   "source": [
    "y = 6+5j"
   ]
  },
  {
   "cell_type": "code",
   "execution_count": 135,
   "id": "bd3261eb-649a-43c0-aa67-af7cff8e3b2b",
   "metadata": {},
   "outputs": [
    {
     "data": {
      "text/plain": [
       "(6+5j)"
      ]
     },
     "execution_count": 135,
     "metadata": {},
     "output_type": "execute_result"
    }
   ],
   "source": [
    "y"
   ]
  },
  {
   "cell_type": "code",
   "execution_count": 137,
   "id": "e3113eea-decf-4172-bdda-4b5b3a017b26",
   "metadata": {},
   "outputs": [
    {
     "data": {
      "text/plain": [
       "complex"
      ]
     },
     "execution_count": 137,
     "metadata": {},
     "output_type": "execute_result"
    }
   ],
   "source": [
    "type(y)"
   ]
  },
  {
   "cell_type": "code",
   "execution_count": null,
   "id": "e8e05913-3712-46ef-a4b4-0c3cc33df548",
   "metadata": {},
   "outputs": [],
   "source": []
  },
  {
   "cell_type": "code",
   "execution_count": null,
   "id": "c498c93e-be8f-4663-bf77-01ce6500b1fb",
   "metadata": {},
   "outputs": [],
   "source": []
  },
  {
   "cell_type": "code",
   "execution_count": null,
   "id": "a7a3189d-425b-4949-82c5-445449b6c133",
   "metadata": {},
   "outputs": [],
   "source": []
  },
  {
   "cell_type": "code",
   "execution_count": null,
   "id": "a472bff3-9490-4312-a9c3-ee2ad24842fd",
   "metadata": {},
   "outputs": [],
   "source": []
  },
  {
   "cell_type": "markdown",
   "id": "689b1466-e2d7-443c-8d25-54875b3c9ad7",
   "metadata": {},
   "source": [
    "# TIPO BOOLEANO (BOOL)"
   ]
  },
  {
   "cell_type": "code",
   "execution_count": 109,
   "id": "81ec7906-7340-44f3-84c2-6225fcd1490c",
   "metadata": {},
   "outputs": [],
   "source": [
    "flag = True"
   ]
  },
  {
   "cell_type": "code",
   "execution_count": 113,
   "id": "85e588aa-ad4d-49c0-9ff4-868d05428309",
   "metadata": {},
   "outputs": [
    {
     "data": {
      "text/plain": [
       "bool"
      ]
     },
     "execution_count": 113,
     "metadata": {},
     "output_type": "execute_result"
    }
   ],
   "source": [
    "type(flag)"
   ]
  },
  {
   "cell_type": "code",
   "execution_count": 115,
   "id": "e019692e-f723-45a7-aca8-db35bb09bb85",
   "metadata": {},
   "outputs": [
    {
     "data": {
      "text/plain": [
       "True"
      ]
     },
     "execution_count": 115,
     "metadata": {},
     "output_type": "execute_result"
    }
   ],
   "source": [
    "flag"
   ]
  },
  {
   "cell_type": "code",
   "execution_count": 117,
   "id": "3948c39a-cc6c-4e62-b07e-0f575966c6a8",
   "metadata": {},
   "outputs": [
    {
     "data": {
      "text/plain": [
       "False"
      ]
     },
     "execution_count": 117,
     "metadata": {},
     "output_type": "execute_result"
    }
   ],
   "source": [
    "not flag"
   ]
  },
  {
   "cell_type": "code",
   "execution_count": 122,
   "id": "d072ff11-ad15-46d0-b5f3-e7c32496b427",
   "metadata": {},
   "outputs": [],
   "source": [
    "x = flag and False"
   ]
  },
  {
   "cell_type": "code",
   "execution_count": 124,
   "id": "2933adb5-6b13-48ff-8d5d-bd50ab1b3a09",
   "metadata": {},
   "outputs": [
    {
     "data": {
      "text/plain": [
       "False"
      ]
     },
     "execution_count": 124,
     "metadata": {},
     "output_type": "execute_result"
    }
   ],
   "source": [
    "x"
   ]
  },
  {
   "cell_type": "markdown",
   "id": "4295aca4-b9a1-4498-bb91-9fde9cd577b4",
   "metadata": {},
   "source": [
    "# TIPO STRING"
   ]
  },
  {
   "cell_type": "code",
   "execution_count": 139,
   "id": "f5b252fe-d2f3-4016-9128-0dffa178765d",
   "metadata": {},
   "outputs": [],
   "source": [
    "letra = \"a\""
   ]
  },
  {
   "cell_type": "code",
   "execution_count": 141,
   "id": "8961ce42-4fe1-4cae-a0fe-0142ee75b45e",
   "metadata": {},
   "outputs": [
    {
     "data": {
      "text/plain": [
       "str"
      ]
     },
     "execution_count": 141,
     "metadata": {},
     "output_type": "execute_result"
    }
   ],
   "source": [
    "type (letra)"
   ]
  },
  {
   "cell_type": "code",
   "execution_count": 149,
   "id": "b002c795-59d2-404f-8cf3-c41760dac7f1",
   "metadata": {},
   "outputs": [],
   "source": [
    "frase = 'batatinha quando nasce espalha a rama pelo chão'"
   ]
  },
  {
   "cell_type": "code",
   "execution_count": 145,
   "id": "e66dd609-a544-46c1-822a-921e34985b1b",
   "metadata": {},
   "outputs": [
    {
     "data": {
      "text/plain": [
       "'batatinha quando nasce espalha a rama pelo chão'"
      ]
     },
     "execution_count": 145,
     "metadata": {},
     "output_type": "execute_result"
    }
   ],
   "source": [
    "frase"
   ]
  },
  {
   "cell_type": "code",
   "execution_count": 151,
   "id": "79ef3d02-b4c3-42b3-9f54-a864c2cde53b",
   "metadata": {},
   "outputs": [
    {
     "data": {
      "text/plain": [
       "str"
      ]
     },
     "execution_count": 151,
     "metadata": {},
     "output_type": "execute_result"
    }
   ],
   "source": [
    "type(frase)"
   ]
  },
  {
   "cell_type": "code",
   "execution_count": 153,
   "id": "e84f3825-f1a2-487b-9bd6-dc883deff1e3",
   "metadata": {},
   "outputs": [],
   "source": [
    "palavra = \"phyton\""
   ]
  },
  {
   "cell_type": "code",
   "execution_count": 155,
   "id": "c7807a98-89e9-470d-afe9-40787a121ff5",
   "metadata": {},
   "outputs": [
    {
     "data": {
      "text/plain": [
       "'phyton'"
      ]
     },
     "execution_count": 155,
     "metadata": {},
     "output_type": "execute_result"
    }
   ],
   "source": [
    "palavra"
   ]
  },
  {
   "cell_type": "code",
   "execution_count": 157,
   "id": "f73c774d-c726-4d0e-a4d5-9c19e055393a",
   "metadata": {},
   "outputs": [
    {
     "data": {
      "text/plain": [
       "str"
      ]
     },
     "execution_count": 157,
     "metadata": {},
     "output_type": "execute_result"
    }
   ],
   "source": [
    "type(palavra)"
   ]
  },
  {
   "cell_type": "code",
   "execution_count": 167,
   "id": "bf1f3655-bb64-4702-baf7-26a075f984ad",
   "metadata": {},
   "outputs": [
    {
     "data": {
      "text/plain": [
       "'p'"
      ]
     },
     "execution_count": 167,
     "metadata": {},
     "output_type": "execute_result"
    }
   ],
   "source": [
    "palavra[0]"
   ]
  },
  {
   "cell_type": "code",
   "execution_count": 186,
   "id": "82049d53-0dd2-4097-a0ec-35fb0878beba",
   "metadata": {},
   "outputs": [
    {
     "data": {
      "text/plain": [
       "['__add__',\n",
       " '__class__',\n",
       " '__contains__',\n",
       " '__delattr__',\n",
       " '__dir__',\n",
       " '__doc__',\n",
       " '__eq__',\n",
       " '__format__',\n",
       " '__ge__',\n",
       " '__getattribute__',\n",
       " '__getitem__',\n",
       " '__getnewargs__',\n",
       " '__getstate__',\n",
       " '__gt__',\n",
       " '__hash__',\n",
       " '__init__',\n",
       " '__init_subclass__',\n",
       " '__iter__',\n",
       " '__le__',\n",
       " '__len__',\n",
       " '__lt__',\n",
       " '__mod__',\n",
       " '__mul__',\n",
       " '__ne__',\n",
       " '__new__',\n",
       " '__reduce__',\n",
       " '__reduce_ex__',\n",
       " '__repr__',\n",
       " '__rmod__',\n",
       " '__rmul__',\n",
       " '__setattr__',\n",
       " '__sizeof__',\n",
       " '__str__',\n",
       " '__subclasshook__',\n",
       " 'capitalize',\n",
       " 'casefold',\n",
       " 'center',\n",
       " 'count',\n",
       " 'encode',\n",
       " 'endswith',\n",
       " 'expandtabs',\n",
       " 'find',\n",
       " 'format',\n",
       " 'format_map',\n",
       " 'index',\n",
       " 'isalnum',\n",
       " 'isalpha',\n",
       " 'isascii',\n",
       " 'isdecimal',\n",
       " 'isdigit',\n",
       " 'isidentifier',\n",
       " 'islower',\n",
       " 'isnumeric',\n",
       " 'isprintable',\n",
       " 'isspace',\n",
       " 'istitle',\n",
       " 'isupper',\n",
       " 'join',\n",
       " 'ljust',\n",
       " 'lower',\n",
       " 'lstrip',\n",
       " 'maketrans',\n",
       " 'partition',\n",
       " 'removeprefix',\n",
       " 'removesuffix',\n",
       " 'replace',\n",
       " 'rfind',\n",
       " 'rindex',\n",
       " 'rjust',\n",
       " 'rpartition',\n",
       " 'rsplit',\n",
       " 'rstrip',\n",
       " 'split',\n",
       " 'splitlines',\n",
       " 'startswith',\n",
       " 'strip',\n",
       " 'swapcase',\n",
       " 'title',\n",
       " 'translate',\n",
       " 'upper',\n",
       " 'zfill']"
      ]
     },
     "execution_count": 186,
     "metadata": {},
     "output_type": "execute_result"
    }
   ],
   "source": [
    "dir(palavra)"
   ]
  },
  {
   "cell_type": "code",
   "execution_count": 188,
   "id": "0b63a482-ff7a-4226-af48-fd34c4ce08bf",
   "metadata": {
    "collapsed": true,
    "jupyter": {
     "outputs_hidden": true
    }
   },
   "outputs": [
    {
     "data": {
      "text/plain": [
       "'phyton'"
      ]
     },
     "execution_count": 188,
     "metadata": {},
     "output_type": "execute_result"
    }
   ],
   "source": [
    "palavra"
   ]
  },
  {
   "cell_type": "code",
   "execution_count": 191,
   "id": "5c069028-a03b-46dc-9c5e-6848969e0cca",
   "metadata": {},
   "outputs": [
    {
     "data": {
      "text/plain": [
       "'PHYTON'"
      ]
     },
     "execution_count": 191,
     "metadata": {},
     "output_type": "execute_result"
    }
   ],
   "source": [
    "palavra.upper()"
   ]
  },
  {
   "cell_type": "code",
   "execution_count": null,
   "id": "591c4cc8-c261-4ea6-bd36-6c4dc791ec01",
   "metadata": {},
   "outputs": [],
   "source": []
  },
  {
   "cell_type": "code",
   "execution_count": null,
   "id": "bf687f83-24aa-449e-9dd8-f342a7fcd845",
   "metadata": {},
   "outputs": [],
   "source": []
  },
  {
   "cell_type": "markdown",
   "id": "d8a1db13-09ae-43e3-b3f0-edaead6d300c",
   "metadata": {},
   "source": [
    "# FUNÇÕES EMBUTIDAS"
   ]
  },
  {
   "cell_type": "code",
   "execution_count": null,
   "id": "063d7f40-44fe-4d56-ba0a-4cec670503db",
   "metadata": {},
   "outputs": [],
   "source": []
  },
  {
   "cell_type": "code",
   "execution_count": null,
   "id": "7bb7929c-6524-4873-81e9-84e5b9063f9a",
   "metadata": {},
   "outputs": [],
   "source": []
  },
  {
   "cell_type": "code",
   "execution_count": 172,
   "id": "4f86d77e-bf48-4f87-968b-f93a66e3a772",
   "metadata": {},
   "outputs": [
    {
     "data": {
      "text/plain": [
       "40"
      ]
     },
     "execution_count": 172,
     "metadata": {},
     "output_type": "execute_result"
    }
   ],
   "source": [
    "abs(40)"
   ]
  },
  {
   "cell_type": "code",
   "execution_count": 174,
   "id": "c9548681-750a-4ab6-ac1f-13379c170e9c",
   "metadata": {},
   "outputs": [
    {
     "data": {
      "text/plain": [
       "34"
      ]
     },
     "execution_count": 174,
     "metadata": {},
     "output_type": "execute_result"
    }
   ],
   "source": [
    "abs(34)"
   ]
  },
  {
   "cell_type": "code",
   "execution_count": 176,
   "id": "745802c9-672b-4024-b146-0167acb23287",
   "metadata": {},
   "outputs": [
    {
     "data": {
      "text/plain": [
       "'_'"
      ]
     },
     "execution_count": 176,
     "metadata": {},
     "output_type": "execute_result"
    }
   ],
   "source": [
    "chr(95)"
   ]
  },
  {
   "cell_type": "code",
   "execution_count": 178,
   "id": "7fe0cc12-03b8-4693-944d-f99bb1366f38",
   "metadata": {},
   "outputs": [
    {
     "data": {
      "text/plain": [
       "'A'"
      ]
     },
     "execution_count": 178,
     "metadata": {},
     "output_type": "execute_result"
    }
   ],
   "source": [
    "chr(65)"
   ]
  },
  {
   "cell_type": "code",
   "execution_count": 182,
   "id": "68d22cce-bbca-464e-9369-2553bb43be1e",
   "metadata": {},
   "outputs": [
    {
     "data": {
      "text/plain": [
       "122"
      ]
     },
     "execution_count": 182,
     "metadata": {},
     "output_type": "execute_result"
    }
   ],
   "source": [
    "ord('z')"
   ]
  },
  {
   "cell_type": "code",
   "execution_count": 184,
   "id": "f17910a7-de12-49a4-aaaa-72a604680663",
   "metadata": {},
   "outputs": [
    {
     "data": {
      "text/plain": [
       "'z'"
      ]
     },
     "execution_count": 184,
     "metadata": {},
     "output_type": "execute_result"
    }
   ],
   "source": [
    "chr(122)"
   ]
  },
  {
   "cell_type": "code",
   "execution_count": 193,
   "id": "e9584b2c-0222-4440-9a07-ac7d4907196a",
   "metadata": {},
   "outputs": [
    {
     "name": "stdout",
     "output_type": "stream",
     "text": [
      "Help on built-in function ord in module builtins:\n",
      "\n",
      "ord(c, /)\n",
      "    Return the Unicode code point for a one-character string.\n",
      "\n"
     ]
    }
   ],
   "source": [
    "help(ord)"
   ]
  },
  {
   "cell_type": "code",
   "execution_count": null,
   "id": "1bf9b121-35a0-49ef-a8f9-597597053ed9",
   "metadata": {},
   "outputs": [],
   "source": []
  }
 ],
 "metadata": {
  "kernelspec": {
   "display_name": "Python [conda env:base] *",
   "language": "python",
   "name": "conda-base-py"
  },
  "language_info": {
   "codemirror_mode": {
    "name": "ipython",
    "version": 3
   },
   "file_extension": ".py",
   "mimetype": "text/x-python",
   "name": "python",
   "nbconvert_exporter": "python",
   "pygments_lexer": "ipython3",
   "version": "3.12.7"
  }
 },
 "nbformat": 4,
 "nbformat_minor": 5
}
