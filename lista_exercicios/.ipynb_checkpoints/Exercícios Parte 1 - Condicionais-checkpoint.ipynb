{
 "cells": [
  {
   "cell_type": "code",
   "execution_count": null,
   "id": "b44ded29-86e9-4413-b075-c01b4b091b8e",
   "metadata": {},
   "outputs": [],
   "source": [
    "# Exercício 1 - Faça um algorítimo para ter um número e mostrar se ele é par ou ímpar, positivo ou negativo.\n",
    "\n"
   ]
  },
  {
   "cell_type": "code",
   "execution_count": null,
   "id": "84e5ddbb-d389-47fc-9aa0-9662d377c39f",
   "metadata": {},
   "outputs": [],
   "source": [
    "# Exercício 2 - Dado o algorítimo abaixo, qual o valor de \"x\" mostrado no final? Faça sem reproduzir no computador/VisuAig.\n",
    "\n"
   ]
  }
 ],
 "metadata": {
  "kernelspec": {
   "display_name": "Python [conda env:base] *",
   "language": "python",
   "name": "conda-base-py"
  },
  "language_info": {
   "codemirror_mode": {
    "name": "ipython",
    "version": 3
   },
   "file_extension": ".py",
   "mimetype": "text/x-python",
   "name": "python",
   "nbconvert_exporter": "python",
   "pygments_lexer": "ipython3",
   "version": "3.12.7"
  }
 },
 "nbformat": 4,
 "nbformat_minor": 5
}
